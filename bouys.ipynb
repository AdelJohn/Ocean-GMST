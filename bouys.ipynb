{
 "cells": [
  {
   "cell_type": "markdown",
   "metadata": {},
   "source": [
    "Discovering Changepoints in local datasets\n",
    "\n",
    "Phase 1 Goal: open text files containing bouy data, concadonate bouy data to larger data sets, plot datasets for each bouy\n",
    "Phase 2 Goal: Look for changepoints via statistical models\n",
    "\n",
    "Tools that would be useful: \n",
    "Function to open text files\n",
    "function to select only date/time/Surface and water temperature\n",
    "function to concadonate into a larger dataset\n",
    "function to plot datasets\n"
   ]
  },
  {
   "cell_type": "code",
   "execution_count": null,
   "metadata": {},
   "outputs": [],
   "source": [
    "#Step 1: Packages\n",
    "import pandas as pd\n",
    "import numpy as np\n",
    "import matplotlib as plt\n",
    "import matplotlib.pyplot as plt\n"
   ]
  },
  {
   "cell_type": "code",
   "execution_count": null,
   "metadata": {},
   "outputs": [],
   "source": [
    "#Step 2: Import Text files\n",
    "\n",
    "#cols = '#YY', 'MM', 'DD', 'hh', 'ATMP', 'WTMP'\n",
    "#cols = [0,1,2,3,11,12]\n",
    "cols = ['#YY', 'MM', 'DD', 'hh', 'ATMP','WTMP']\n",
    "\n",
    "TwentyTwelve_df = pd.read_fwf('0y2w3h2012.txt', usecols = cols) #, usecols = lambda x: x.upper() in [cols]\n",
    "TwentyThirteen_df = pd.read_fwf('0y2w3h2013.txt', usecols = cols)\n",
    "TwentyFourteen_df = pd.read_fwf('0y2w3h2014.txt', usecols = cols)\n",
    "TwentyFifteen_df = pd.read_fwf('0y2w3h2015.txt', usecols = cols)\n",
    "#TwentySixteen_df = pd.read_fwf('0y2w3h2012.txt', usecols = cols)\n",
    "#TwentySeventeen = pd.read_fwf('0y2w3h2012.txt', usecols = cols)\n",
    "#TwentyEighteen_df =pd.read_fwf('0y2w3h2012.txt', usecols = cols)\n",
    "#TwentyNineteen_df = pd.read_fwf('0y2w3h2012.txt', usecols = cols)\n",
    "#TwentyTwenty_df = pd.read_fwf('0y2w3h2012.txt', usecols = cols)\n",
    "#TwentyTwentyOne_df = pd.read_fwf('0y2w3h2012.txt', usecols = cols)\n",
    "#TwentyTwentyTwo_df = pd.read_fwf('0y2w3h2012.txt', usecols = cols)\n",
    "#TwentyTwentyThree_df = pd.read_fwf('0y2w3h2012.txt', usecols = cols)\n",
    "#TwentyTwentyFour_df = pd.read_fwf('0y2w3h2012.txt', usecols = cols)\n",
    "\n",
    "TwentyFifteen_df\n"
   ]
  },
  {
   "cell_type": "code",
   "execution_count": null,
   "metadata": {},
   "outputs": [],
   "source": [
    "#Step 3: Concadonate data into larger data sets\n",
    "df = pd.concat( [TwentyTwelve_df, TwentyThirteen_df,TwentyFourteen_df,TwentyFifteen_df])\n",
    "df"
   ]
  },
  {
   "cell_type": "code",
   "execution_count": null,
   "metadata": {},
   "outputs": [],
   "source": [
    "#Step 3: Convert to datetime\n",
    "df = df.drop([0])\n",
    "df = df.rename(columns = {'#YY':'year', 'MM':'month', 'DD':'day', 'hh' :'hour'}, errors=\"raise\")\n",
    "\n",
    "df_datetime= df.drop(columns =['ATMP', 'WTMP'])\n",
    "\n",
    "df_datetime = pd.to_datetime(df_datetime)\n",
    "#pd.Timestamp.combine(date(2020, 3, 14), time(15, 30, 15))\n",
    "df_datetime\n"
   ]
  },
  {
   "cell_type": "code",
   "execution_count": null,
   "metadata": {},
   "outputs": [],
   "source": [
    "#Step 4: Add ATMP and WTMP back to datetime dataframe\n",
    "ATMP = {'date': df_datetime, 'ATMP': df['ATMP'].astype(float)}\n",
    "ATMP_df = pd.DataFrame(ATMP)\n",
    "\n",
    "#WTMP = {'date': df_datetime, 'WTMP': df['WTMP'].astype(float)}\n",
    "#WTMP_df = pd.DataFrame(WTMP)\n"
   ]
  },
  {
   "cell_type": "code",
   "execution_count": null,
   "metadata": {},
   "outputs": [],
   "source": [
    "#Clean Data\n",
    "ATMP_df = ATMP_df[ATMP_df['ATMP'] < 100]\n",
    "ATMP_df"
   ]
  },
  {
   "cell_type": "code",
   "execution_count": null,
   "metadata": {},
   "outputs": [],
   "source": [
    "#Step 4: Plot datasets for each bouy\n",
    "fig, axs = plt.subplots(figsize=(12, 12))\n",
    "plt.plot(ATMP_df['date'], ATMP_df['ATMP'])\n",
    "# Add title and axis labels\n",
    "plt.title('Time Series Plot')\n",
    "plt.xlabel('Time')\n",
    "plt.ylabel('Value')\n",
    "plt.xticks(rotation=45)\n"
   ]
  }
 ],
 "metadata": {
  "kernelspec": {
   "display_name": "Python 3",
   "language": "python",
   "name": "python3"
  },
  "language_info": {
   "codemirror_mode": {
    "name": "ipython",
    "version": 3
   },
   "file_extension": ".py",
   "mimetype": "text/x-python",
   "name": "python",
   "nbconvert_exporter": "python",
   "pygments_lexer": "ipython3",
   "version": "3.11.9"
  }
 },
 "nbformat": 4,
 "nbformat_minor": 2
}
